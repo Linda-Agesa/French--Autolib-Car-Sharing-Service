{
  "nbformat": 4,
  "nbformat_minor": 0,
  "metadata": {
    "colab": {
      "name": "Autolib_Car_Sharing_Service.ipynb",
      "version": "0.3.2",
      "provenance": [],
      "include_colab_link": true
    },
    "kernelspec": {
      "name": "python3",
      "display_name": "Python 3"
    }
  },
  "cells": [
    {
      "cell_type": "markdown",
      "metadata": {
        "id": "view-in-github",
        "colab_type": "text"
      },
      "source": [
        "<a href=\"https://colab.research.google.com/github/Linda-Agesa/French--Autolib-Car-Sharing-Service/blob/master/Autolib_Car_Sharing_Service.ipynb\" target=\"_parent\"><img src=\"https://colab.research.google.com/assets/colab-badge.svg\" alt=\"Open In Colab\"/></a>"
      ]
    },
    {
      "cell_type": "markdown",
      "metadata": {
        "id": "ufxQKBjNmX_I",
        "colab_type": "text"
      },
      "source": [
        "# Autolib Car Sharing Service - Electric Car Usage\n",
        "\n",
        "## Background of the Business\n",
        "\n",
        "> Autolib is a car sharing service company that provides easy and covenient access to electric cars, operating in several French cities.\n",
        "The service is attained through subscription after which the subscriber receives a Radio Frequency Identification (RFID) badge.\n",
        "\n",
        ">The scheme allows a driver to rent a car at a station and return it to a station in a different location.\n",
        "By use of the RFID, an invoice is charged to a subscriber's account on their usage.\n"
      ]
    },
    {
      "cell_type": "markdown",
      "metadata": {
        "id": "M_8GX3Ae72Hr",
        "colab_type": "text"
      },
      "source": [
        "## Problem Statement"
      ]
    },
    {
      "cell_type": "markdown",
      "metadata": {
        "id": "lEcvWbRd85A-",
        "colab_type": "text"
      },
      "source": [
        "## Research Question \n",
        "\n",
        "\n",
        "### Hypothesis Testing"
      ]
    },
    {
      "cell_type": "markdown",
      "metadata": {
        "id": "MdHVPiz795En",
        "colab_type": "text"
      },
      "source": [
        "## Research Design"
      ]
    },
    {
      "cell_type": "markdown",
      "metadata": {
        "id": "RhQOu5kk9wu2",
        "colab_type": "text"
      },
      "source": [
        "## Sampling Technique"
      ]
    },
    {
      "cell_type": "markdown",
      "metadata": {
        "id": "EXpxxr6o9pbp",
        "colab_type": "text"
      },
      "source": [
        "## Project Plan"
      ]
    },
    {
      "cell_type": "markdown",
      "metadata": {
        "id": "OvwIrug29gVL",
        "colab_type": "text"
      },
      "source": [
        "## Metrics For Success"
      ]
    },
    {
      "cell_type": "markdown",
      "metadata": {
        "id": "eoxOz9QMAUaz",
        "colab_type": "text"
      },
      "source": [
        "## Analysis"
      ]
    },
    {
      "cell_type": "markdown",
      "metadata": {
        "id": "U0hZ5KkvAXCe",
        "colab_type": "text"
      },
      "source": [
        "###Univariate EDA"
      ]
    },
    {
      "cell_type": "markdown",
      "metadata": {
        "id": "WMytI1-3AhgR",
        "colab_type": "text"
      },
      "source": [
        "### Bivariate EDA"
      ]
    },
    {
      "cell_type": "markdown",
      "metadata": {
        "id": "mq0X27bfAoyW",
        "colab_type": "text"
      },
      "source": [
        "## Data Cleaning\n"
      ]
    },
    {
      "cell_type": "markdown",
      "metadata": {
        "id": "E8GgsvDOAyo-",
        "colab_type": "text"
      },
      "source": [
        "## Implementing the Solution"
      ]
    },
    {
      "cell_type": "markdown",
      "metadata": {
        "id": "nOnghNLsA3vX",
        "colab_type": "text"
      },
      "source": [
        "## Challenging the Solution"
      ]
    },
    {
      "cell_type": "markdown",
      "metadata": {
        "id": "-n69sLbcBCad",
        "colab_type": "text"
      },
      "source": [
        "## Summary of Findings"
      ]
    },
    {
      "cell_type": "markdown",
      "metadata": {
        "id": "LifPaocCBH25",
        "colab_type": "text"
      },
      "source": [
        "## Conclusion"
      ]
    },
    {
      "cell_type": "markdown",
      "metadata": {
        "id": "mX7jkSffBOXs",
        "colab_type": "text"
      },
      "source": [
        "## Recommendations"
      ]
    }
  ]
}